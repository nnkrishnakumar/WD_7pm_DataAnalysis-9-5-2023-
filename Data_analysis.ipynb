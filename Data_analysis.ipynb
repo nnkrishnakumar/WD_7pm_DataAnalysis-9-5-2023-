{
 "cells": [
  {
   "cell_type": "code",
   "execution_count": 2,
   "metadata": {},
   "outputs": [],
   "source": [
    "# Statistics formula and their name:"
   ]
  },
  {
   "cell_type": "code",
   "execution_count": 3,
   "metadata": {},
   "outputs": [],
   "source": [
    "# Mean\n",
    "\n",
    "# Median\n",
    "\n",
    "# Mode\n",
    "\n",
    "# Quantiles\n",
    "\n",
    "# Standard deviation(3 sigma rule)\n",
    "\n",
    "# IQR\n",
    "\n"
   ]
  },
  {
   "cell_type": "code",
   "execution_count": 4,
   "metadata": {},
   "outputs": [],
   "source": [
    "# Mean/ average/ percentage%\n",
    "# There are three type of mean\n",
    "# > Artithmetic mean(AM)\n",
    "# > Geometric Mean(GM)\n",
    "# > Harmonic Mean(HM)"
   ]
  },
  {
   "cell_type": "code",
   "execution_count": null,
   "metadata": {},
   "outputs": [],
   "source": [
    "# > Artithmetic mean(AM)\n",
    "     > When the values are in same range\n",
    "# > Geometric Mean(GM)\n",
    "     > when the values are in different range.\n",
    "# > Harmonic Mean(HM)\n",
    "     > when rate of chnage in data happend."
   ]
  }
 ],
 "metadata": {
  "kernelspec": {
   "display_name": "Python 3",
   "language": "python",
   "name": "python3"
  },
  "language_info": {
   "codemirror_mode": {
    "name": "ipython",
    "version": 3
   },
   "file_extension": ".py",
   "mimetype": "text/x-python",
   "name": "python",
   "nbconvert_exporter": "python",
   "pygments_lexer": "ipython3",
   "version": "3.11.3"
  },
  "orig_nbformat": 4
 },
 "nbformat": 4,
 "nbformat_minor": 2
}
